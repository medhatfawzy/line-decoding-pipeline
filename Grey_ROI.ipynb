{
  "cells": [
    {
      "cell_type": "code",
      "execution_count": 1,
      "metadata": {
        "id": "usYQnWYqTeb7"
      },
      "outputs": [],
      "source": [
        "import cv2\n",
        "import os\n",
        "import numpy as np\n",
        "import matplotlib.pyplot as plt"
      ]
    },
    {
      "cell_type": "code",
      "execution_count": 2,
      "metadata": {
        "id": "xEsBGW1yTP3n"
      },
      "outputs": [],
      "source": [
        "def Gimage_preprocessing(image_path):\n",
        "    image = cv2.imread(image_path, cv2.IMREAD_GRAYSCALE)\n",
        "    clahe = cv2.createCLAHE(clipLimit=4.0, tileGridSize=(8, 8))\n",
        "    clahe_image = clahe.apply(image)\n",
        "    kernel = np.ones((10, 10), np.uint8)\n",
        "    eroded_image = cv2.erode(clahe_image, kernel, iterations=1)\n",
        "    return eroded_image"
      ]
    },
    {
      "cell_type": "code",
      "execution_count": 3,
      "metadata": {
        "id": "76D_D6J5rr_I"
      },
      "outputs": [],
      "source": [
        "def ROI_grey(image):\n",
        "  if image.dtype != np.uint8:  # Check if the image is not of type uint8\n",
        "        print(\"Converting the image to uint8.\")\n",
        "        image = image.astype(np.uint8)\n",
        "  height, width= image.shape[:2]\n",
        "  crop_height=height // 2\n",
        "  cropped_image = image[crop_height:,  300:1000]\n",
        "  mask = cv2.inRange(cropped_image, 200, 225)\n",
        "  masked_image = cv2.bitwise_and(cropped_image, cropped_image, mask=mask)\n",
        "  return masked_image"
      ]
    },
    {
      "cell_type": "code",
      "execution_count": 4,
      "metadata": {
        "id": "2YOttUFNz4u9"
      },
      "outputs": [],
      "source": [
        "def canny(image):\n",
        "    #gray = cv2.cvtColor(image, cv2.COLOR_RGB2GRAY)\n",
        "    blur = cv2.GaussianBlur(image,(5, 5), 0)\n",
        "    canny = cv2.Canny(blur, 50, 150)\n",
        "    return canny"
      ]
    },
    {
      "cell_type": "code",
      "execution_count": 17,
      "metadata": {
        "colab": {
          "base_uri": "https://localhost:8080/",
          "height": 497
        },
        "id": "I40dWjbwnooi",
        "outputId": "22e6e8cc-0c8a-485a-f959-8bf9e8ca34aa"
      },
      "outputs": [
        {
          "data": {
            "image/png": "[encoded data removed]",
            "text/plain": [
              "<Figure size 640x480 with 1 Axes>"
            ]
          },
          "metadata": {},
          "output_type": "display_data"
        }
      ],
      "source": [
        "image_path = './img_edge_cases/81_0_0.png'\n",
        "plt.imshow(canny(ROI_grey(Gimage_preprocessing(image_path))))\n",
        "plt.show()"
      ]
    },
    {
      "cell_type": "code",
      "execution_count": null,
      "metadata": {},
      "outputs": [],
      "source": []
    }
  ],
  "metadata": {
    "colab": {
      "provenance": []
    },
    "kernelspec": {
      "display_name": "Python 3",
      "name": "python3"
    },
    "language_info": {
      "codemirror_mode": {
        "name": "ipython",
        "version": 3
      },
      "file_extension": ".py",
      "mimetype": "text/x-python",
      "name": "python",
      "nbconvert_exporter": "python",
      "pygments_lexer": "ipython3",
      "version": "3.10.12"
    }
  },
  "nbformat": 4,
  "nbformat_minor": 0
}
