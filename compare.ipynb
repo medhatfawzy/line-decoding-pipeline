{
 "cells": [
  {
   "cell_type": "code",
   "execution_count": 92,
   "metadata": {},
   "outputs": [],
   "source": [
    "import cv2\n",
    "import numpy as np\n",
    "from scipy.spatial import distance\n",
    "\n",
    "import matplotlib.pyplot as plt\n",
    "import os\n",
    "import time\n",
    "\n",
    "\n",
    "from sklearn.metrics import mean_squared_error"
   ]
  },
  {
   "cell_type": "code",
   "execution_count": 93,
   "metadata": {},
   "outputs": [],
   "source": [
    "def warp_img(img):\n",
    "    # https://nikolasent.github.io/opencv/2017/05/07/Bird's-Eye-View-Transformation.html\n",
    "    img_h = img.shape[0]\n",
    "    img_w = img.shape[1]\n",
    "\n",
    "    src = np.float32(\n",
    "        [[0, img_h], [1207, img_h], [0, img_h // 10], [img_w, img_h // 10]]\n",
    "    )\n",
    "    dst = np.float32([[569, img_h], [711, img_h], [0, 0], [img_w, 0]])\n",
    "\n",
    "    M = cv2.getPerspectiveTransform(src, dst)  # The transformation matrix\n",
    "\n",
    "    img = img[500:(img_h), 0:img_w]  # Apply np slicing for ROI crop\n",
    "    img = cv2.warpPerspective(img, M, (img_w, img_h))  # Image warping\n",
    "    img = img[0 : img_h - 150, 350:900]\n",
    "    return img\n",
    "\n",
    "\n",
    "def apply_region_of_interest(img):\n",
    "    img_h = img.shape[0]\n",
    "    img_w = img.shape[1]\n",
    "\n",
    "    return img[500:(img_h), 0:img_w]\n",
    "\n",
    "\n",
    "def apply_gaussian_blur(img, kernel_size=(5, 5)):\n",
    "    return cv2.GaussianBlur(img, kernel_size, 0)\n",
    "\n",
    "\n",
    "def apply_canny_edge(img, low_threshold=100, high_threshold=200):\n",
    "    return cv2.Canny(img, low_threshold, high_threshold)\n",
    "\n",
    "\n",
    "def apply_dilation(img, kernel_size=(3, 3)):\n",
    "    return cv2.dilate(img, np.ones(kernel_size, np.uint8))\n",
    "\n",
    "\n",
    "def detect_hough_lines(img):\n",
    "    return cv2.HoughLinesP(\n",
    "        img, rho=1, theta=np.pi / 180, threshold=20, minLineLength=2, maxLineGap=5\n",
    "    )\n",
    "\n",
    "\n",
    "def draw_hough_lines(img, lines):\n",
    "    for line in lines:\n",
    "        for x1, y1, x2, y2 in line:\n",
    "            cv2.line(img, (x1, y1), (x2, y2), 255, 5)\n",
    "    return img\n",
    "\n",
    "\n",
    "def detect_correct_mark(img):\n",
    "    contours, _ = cv2.findContours(img, cv2.RETR_EXTERNAL, cv2.CHAIN_APPROX_SIMPLE)\n",
    "    rects = [cv2.minAreaRect(contour) for contour in contours]\n",
    "    center_bottom = (img.shape[1] // 2, img.shape[0] // 1.5)\n",
    "\n",
    "    distances = [distance.euclidean(rect[0], center_bottom) for rect in rects]\n",
    "    center_rect = rects[np.argmin(distances)]\n",
    "\n",
    "    return center_rect\n",
    "\n",
    "\n",
    "def map_values(rect: tuple, img: np.ndarray) -> tuple[float, float]:\n",
    "    \"\"\"\n",
    "    Map the values for the steer to (-1, 1)\n",
    "    and the values for the throttle to (0, 1)\n",
    "\n",
    "    Parameters\n",
    "    ----------\n",
    "    rect: tuple\n",
    "        the rectangle that is used to determine the throttle and steering angle\n",
    "    Return\n",
    "    ------\n",
    "    throttle: float\n",
    "        the throttle for the car\n",
    "    steer: float\n",
    "        the steering angle for the car\n",
    "    \"\"\"\n",
    "    center = rect[0]\n",
    "    img_center = (img.shape[1] // 2, img.shape[0] // 1.5)\n",
    "\n",
    "    offset = center[0] - img_center[0]  # offset from the center of the image\n",
    "    offset = offset / img_center[0]  # normalize the offset\n",
    "\n",
    "    d1 = rect[1][0]\n",
    "    d2 = rect[1][1]\n",
    "    width = min(rect[1][1], rect[1][0])\n",
    "    height = max(rect[1][1], rect[1][0])\n",
    "    angle = rect[2]\n",
    "\n",
    "    # rounding to the nearest 5\n",
    "    width = int(5 * round(width / 5))\n",
    "    angle = int(5 * round(angle / 5))\n",
    "\n",
    "    if angle in (0, 90, -0, -90):\n",
    "        angle = 0\n",
    "\n",
    "    elif d1 < d2:\n",
    "        angle = 90 - angle\n",
    "\n",
    "    else:\n",
    "        angle = -angle\n",
    "\n",
    "    throttle = width / 90\n",
    "    steer = angle / (100 + throttle * 500) + offset\n",
    "\n",
    "    return throttle, steer\n",
    "\n",
    "\n",
    "def process_img(img: np.ndarray) -> tuple[float, float]:\n",
    "    \"\"\"\n",
    "    Process image to find the angle and width of the rectangle in the image\n",
    "\n",
    "    Parameters\n",
    "    ----------\n",
    "    img: np.ndarray\n",
    "        image to process\n",
    "\n",
    "    Return\n",
    "    ------\n",
    "    width: float\n",
    "        width of the rectangle in the image representing the throttle\n",
    "    angle: float\n",
    "        angle of the rectangle in the image representing the steering angle\n",
    "    \"\"\"\n",
    "    img = warp_img(img)\n",
    "    img_w, img_h = img.shape[1], img.shape[0]\n",
    "\n",
    "    img_blur = apply_gaussian_blur(img.copy())\n",
    "    img_canny = apply_canny_edge(img_blur)\n",
    "    img_canny = apply_dilation(img_canny)\n",
    "\n",
    "    lines = detect_hough_lines(img_canny.copy())\n",
    "\n",
    "    if lines is None:\n",
    "        return 0, 0\n",
    "\n",
    "    img_hou = np.zeros((img_h, img_w), dtype=np.uint8)\n",
    "    draw_hough_lines(img_hou, lines)\n",
    "\n",
    "    center_rect = detect_correct_mark(img_hou)\n",
    "\n",
    "    throttle, steer = map_values(center_rect, img_hou)\n",
    "    return throttle, steer\n"
   ]
  },
  {
   "cell_type": "code",
   "execution_count": 94,
   "metadata": {},
   "outputs": [],
   "source": [
    "folder = \"imgs\"\n",
    "\n",
    "true_throttles = []\n",
    "true_steers = []\n",
    "\n",
    "pred_throttles = []\n",
    "pred_steers = []\n",
    "\n",
    "for img_name in os.listdir(folder):\n",
    "    split_name = img_name.split(\"_\")\n",
    "    true_steer = int(split_name[1])\n",
    "    true_throttle = int(split_name[3])\n",
    "    \n",
    "    img = cv2.imread(os.path.join(folder, img_name))\n",
    "    throttle, steer = process_img(img)\n",
    "    \n",
    "    true_steers.append(true_steer)\n",
    "    true_throttles.append(true_throttle)\n",
    "    pred_steers.append(steer)\n",
    "    pred_throttles.append(throttle)\n",
    "    # print(f\"Steer: {steer:.2f}, \\tThrottle: {throttle:.2f}\")"
   ]
  },
  {
   "cell_type": "code",
   "execution_count": 95,
   "metadata": {},
   "outputs": [
    {
     "name": "stdout",
     "output_type": "stream",
     "text": [
      "RMSE Steer: 0.35\n",
      "RMSE Throttle: 0.12\n"
     ]
    }
   ],
   "source": [
    "true_steers = [x / 20 for x in true_steers]\n",
    "true_throttles = [x / 30 for x in true_throttles]\n",
    "\n",
    "\n",
    "# calculate the RMSE\n",
    "rmse_steer = mean_squared_error(true_steers, pred_steers, squared=False)\n",
    "rmse_throttle = mean_squared_error(true_throttles, pred_throttles, squared=False)\n",
    "\n",
    "print(f\"RMSE Steer: {rmse_steer:.2f}\")\n",
    "print(f\"RMSE Throttle: {rmse_throttle:.2f}\")"
   ]
  },
  {
   "cell_type": "code",
   "execution_count": 96,
   "metadata": {},
   "outputs": [
    {
     "data": {
      "text/plain": [
       "[-0.28778657837960975,\n",
       " -0.26135469346958273,\n",
       " -0.28267127742080295,\n",
       " -0.3987453040894139,\n",
       " -0.40125928668884575,\n",
       " -0.39690104361356165,\n",
       " -0.29076199044254514,\n",
       " -0.288928161429761,\n",
       " 0.04727272727272727,\n",
       " 0.04349798029119318,\n",
       " 0.01818181818181818,\n",
       " 0.022834694602272727,\n",
       " 0.019090909090909092,\n",
       " 0.5063480475758823,\n",
       " 0.4999553362832686,\n",
       " 0.49992870276054135]"
      ]
     },
     "execution_count": 96,
     "metadata": {},
     "output_type": "execute_result"
    }
   ],
   "source": [
    "pred_steers"
   ]
  },
  {
   "cell_type": "code",
   "execution_count": 97,
   "metadata": {},
   "outputs": [
    {
     "data": {
      "text/plain": [
       "[-0.5,\n",
       " -0.5,\n",
       " -0.5,\n",
       " -0.5,\n",
       " -0.5,\n",
       " -0.5,\n",
       " -1.0,\n",
       " -1.0,\n",
       " 0.0,\n",
       " 0.0,\n",
       " 0.0,\n",
       " 0.0,\n",
       " 0.0,\n",
       " 1.0,\n",
       " 1.0,\n",
       " 1.0]"
      ]
     },
     "execution_count": 97,
     "metadata": {},
     "output_type": "execute_result"
    }
   ],
   "source": [
    "true_steers"
   ]
  },
  {
   "cell_type": "code",
   "execution_count": 98,
   "metadata": {},
   "outputs": [
    {
     "data": {
      "text/plain": [
       "[0.3333333333333333,\n",
       " 0.3333333333333333,\n",
       " 0.3333333333333333,\n",
       " 0.16666666666666666,\n",
       " 0.16666666666666666,\n",
       " 0.16666666666666666,\n",
       " 0.3333333333333333,\n",
       " 0.3333333333333333,\n",
       " 1.0,\n",
       " 1.0,\n",
       " 0.16666666666666666,\n",
       " 0.16666666666666666,\n",
       " 0.16666666666666666,\n",
       " 0.16666666666666666,\n",
       " 0.16666666666666666,\n",
       " 0.16666666666666666]"
      ]
     },
     "execution_count": 98,
     "metadata": {},
     "output_type": "execute_result"
    }
   ],
   "source": [
    "true_throttles"
   ]
  },
  {
   "cell_type": "code",
   "execution_count": 99,
   "metadata": {},
   "outputs": [
    {
     "data": {
      "text/plain": [
       "[0.3888888888888889,\n",
       " 0.4444444444444444,\n",
       " 0.3888888888888889,\n",
       " 0.2222222222222222,\n",
       " 0.2222222222222222,\n",
       " 0.2222222222222222,\n",
       " 0.4444444444444444,\n",
       " 0.4444444444444444,\n",
       " 0.7222222222222222,\n",
       " 0.7222222222222222,\n",
       " 0.2222222222222222,\n",
       " 0.2222222222222222,\n",
       " 0.2222222222222222,\n",
       " 0.2222222222222222,\n",
       " 0.2222222222222222,\n",
       " 0.2222222222222222]"
      ]
     },
     "execution_count": 99,
     "metadata": {},
     "output_type": "execute_result"
    }
   ],
   "source": [
    "pred_throttles"
   ]
  },
  {
   "cell_type": "code",
   "execution_count": null,
   "metadata": {},
   "outputs": [],
   "source": []
  }
 ],
 "metadata": {
  "kernelspec": {
   "display_name": "Python 3",
   "language": "python",
   "name": "python3"
  },
  "language_info": {
   "codemirror_mode": {
    "name": "ipython",
    "version": 3
   },
   "file_extension": ".py",
   "mimetype": "text/x-python",
   "name": "python",
   "nbconvert_exporter": "python",
   "pygments_lexer": "ipython3",
   "version": "3.10.12"
  }
 },
 "nbformat": 4,
 "nbformat_minor": 2
}
