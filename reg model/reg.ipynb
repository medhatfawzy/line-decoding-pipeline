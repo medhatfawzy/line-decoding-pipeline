{
 "cells": [
  {
   "cell_type": "code",
   "execution_count": 2,
   "metadata": {},
   "outputs": [],
   "source": [
    "import os\n",
    "import cv2\n",
    "import numpy as np\n",
    "\n",
    "import torch\n",
    "from fastai.vision.all import load_learner, PILImage\n",
    "# from fastxtend.vision.all import adam"
   ]
  },
  {
   "cell_type": "code",
   "execution_count": 3,
   "metadata": {},
   "outputs": [],
   "source": [
    "model_path_fastai = os.path.join(os.path.curdir, r\"model.pkl\")\n",
    "model_path_torch = os.path.join(os.path.curdir, r\"model.pt\")"
   ]
  },
  {
   "cell_type": "code",
   "execution_count": 4,
   "metadata": {},
   "outputs": [],
   "source": [
    "model = torch.load(model_path_torch)\n",
    "model = model.double()"
   ]
  },
  {
   "cell_type": "code",
   "execution_count": 5,
   "metadata": {},
   "outputs": [],
   "source": [
    "def round_pred(pred, threshold:float=0):\n",
    "    if pred < 0.4 and pred > threshold:\n",
    "        return 0.4\n",
    "    elif pred < threshold:\n",
    "        return -1\n",
    "    else:\n",
    "        return pred\n",
    "\n",
    "def predict(img, model_path=model_path_fastai):\n",
    "    \"\"\"predicts steer and throttle given an image path\n",
    "\n",
    "    Parameters:\n",
    "    ---\n",
    "    img_path: str\n",
    "        path to image\n",
    "\n",
    "    Returns:\n",
    "    ---\n",
    "    steer: float\n",
    "        predicted steer value\n",
    "    throttle: float\n",
    "        predicted throttle value\n",
    "    \"\"\"\n",
    "    # learner = Learner().load(model_path)\n",
    "    learner = load_learner(model_path)\n",
    "    steer, throttle = learner.predict(img)\n",
    "    throttle = round_pred(throttle, -0.5)\n",
    "    return steer, throttle"
   ]
  },
  {
   "cell_type": "code",
   "execution_count": 8,
   "metadata": {},
   "outputs": [],
   "source": [
    "def predict_torch(img, model):\n",
    "    \"\"\"predicts steer and throttle given an image path\n",
    "\n",
    "    Parameters:\n",
    "    ---\n",
    "    img_path: str\n",
    "        path to image\n",
    "\n",
    "    Returns:\n",
    "    ---\n",
    "    steer: float\n",
    "        predicted steer value\n",
    "    throttle: float\n",
    "        predicted throttle value\n",
    "    \"\"\"\n",
    "    img = cv2.resize(img, (256, 256))\n",
    "    img = cv2.cvtColor(img, cv2.COLOR_GRAY2RGB)\n",
    "    img = np.expand_dims(img, axis=0)\n",
    "    img = img.transpose(0, 3, 1, 2)\n",
    "    img = img / 255\n",
    "    img = torch.from_numpy(img).double()\n",
    "\n",
    "    steer, throttle = model.forward(img).tolist()[0]\n",
    "    throttle = round_pred(throttle, -0.5)\n",
    "    return throttle, steer"
   ]
  },
  {
   "cell_type": "code",
   "execution_count": 10,
   "metadata": {},
   "outputs": [
    {
     "name": "stdout",
     "output_type": "stream",
     "text": [
      "4min ± 8.11 s per loop (mean ± std. dev. of 7 runs, 1 loop each)\n"
     ]
    }
   ],
   "source": [
    "%%timeit\n",
    "# start_time = time.perf_counter()\n",
    "\n",
    "folder = r\"C:\\Users\\medha\\AppData\\Local\\Temp\\airsim_car\"\n",
    "images = os.listdir(folder)\n",
    "\n",
    "for img_path in images:\n",
    "    img = cv2.imread(os.path.join(folder, img_path), cv2.IMREAD_GRAYSCALE)\n",
    "    throttle, steer = predict_torch(img, model)\n",
    "# end_time = time.perf_counter()\n",
    "# print(f\"Time taken: {end_time - start_time:.2f} seconds for {len(images)} images\")"
   ]
  },
  {
   "cell_type": "code",
   "execution_count": null,
   "metadata": {},
   "outputs": [],
   "source": []
  }
 ],
 "metadata": {
  "kernelspec": {
   "display_name": "Python 3",
   "language": "python",
   "name": "python3"
  },
  "language_info": {
   "codemirror_mode": {
    "name": "ipython",
    "version": 3
   },
   "file_extension": ".py",
   "mimetype": "text/x-python",
   "name": "python",
   "nbconvert_exporter": "python",
   "pygments_lexer": "ipython3",
   "version": "3.10.11"
  }
 },
 "nbformat": 4,
 "nbformat_minor": 2
}
